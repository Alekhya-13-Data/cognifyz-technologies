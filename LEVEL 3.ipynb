{
 "cells": [
  {
   "cell_type": "code",
   "execution_count": 1,
   "id": "65d1349d-0ec7-4b39-a662-8cb5e7e5fa52",
   "metadata": {},
   "outputs": [],
   "source": [
    "import pandas as pd"
   ]
  },
  {
   "cell_type": "code",
   "execution_count": 2,
   "id": "2e428542-af2b-4d6b-95fe-3717e22d3ec0",
   "metadata": {},
   "outputs": [
    {
     "data": {
      "text/plain": [
       "'C:\\\\Users\\\\alekh\\\\OneDrive\\\\Desktop\\\\jupyter'"
      ]
     },
     "execution_count": 2,
     "metadata": {},
     "output_type": "execute_result"
    }
   ],
   "source": [
    "import os\n",
    "os.getcwd() "
   ]
  },
  {
   "cell_type": "code",
   "execution_count": 3,
   "id": "256b55a8-1566-4f97-b2d0-4c1c03577117",
   "metadata": {},
   "outputs": [],
   "source": [
    "data = pd.read_csv(r\"C:\\Users\\alekh\\OneDrive\\Desktop\\jupyter\\Dataset .csv\")"
   ]
  },
  {
   "cell_type": "code",
   "execution_count": 4,
   "id": "7b890a6a-d8e0-4bfc-8c92-b0c3e8efa8ba",
   "metadata": {},
   "outputs": [
    {
     "data": {
      "text/html": [
       "<div>\n",
       "<style scoped>\n",
       "    .dataframe tbody tr th:only-of-type {\n",
       "        vertical-align: middle;\n",
       "    }\n",
       "\n",
       "    .dataframe tbody tr th {\n",
       "        vertical-align: top;\n",
       "    }\n",
       "\n",
       "    .dataframe thead th {\n",
       "        text-align: right;\n",
       "    }\n",
       "</style>\n",
       "<table border=\"1\" class=\"dataframe\">\n",
       "  <thead>\n",
       "    <tr style=\"text-align: right;\">\n",
       "      <th></th>\n",
       "      <th>Restaurant ID</th>\n",
       "      <th>Restaurant Name</th>\n",
       "      <th>Country Code</th>\n",
       "      <th>City</th>\n",
       "      <th>Address</th>\n",
       "      <th>Locality</th>\n",
       "      <th>Locality Verbose</th>\n",
       "      <th>Longitude</th>\n",
       "      <th>Latitude</th>\n",
       "      <th>Cuisines</th>\n",
       "      <th>...</th>\n",
       "      <th>Currency</th>\n",
       "      <th>Has Table booking</th>\n",
       "      <th>Has Online delivery</th>\n",
       "      <th>Is delivering now</th>\n",
       "      <th>Switch to order menu</th>\n",
       "      <th>Price range</th>\n",
       "      <th>Aggregate rating</th>\n",
       "      <th>Rating color</th>\n",
       "      <th>Rating text</th>\n",
       "      <th>Votes</th>\n",
       "    </tr>\n",
       "  </thead>\n",
       "  <tbody>\n",
       "    <tr>\n",
       "      <th>0</th>\n",
       "      <td>6317637</td>\n",
       "      <td>Le Petit Souffle</td>\n",
       "      <td>162</td>\n",
       "      <td>Makati City</td>\n",
       "      <td>Third Floor, Century City Mall, Kalayaan Avenu...</td>\n",
       "      <td>Century City Mall, Poblacion, Makati City</td>\n",
       "      <td>Century City Mall, Poblacion, Makati City, Mak...</td>\n",
       "      <td>121.027535</td>\n",
       "      <td>14.565443</td>\n",
       "      <td>French, Japanese, Desserts</td>\n",
       "      <td>...</td>\n",
       "      <td>Botswana Pula(P)</td>\n",
       "      <td>Yes</td>\n",
       "      <td>No</td>\n",
       "      <td>No</td>\n",
       "      <td>No</td>\n",
       "      <td>3</td>\n",
       "      <td>4.8</td>\n",
       "      <td>Dark Green</td>\n",
       "      <td>Excellent</td>\n",
       "      <td>314</td>\n",
       "    </tr>\n",
       "    <tr>\n",
       "      <th>1</th>\n",
       "      <td>6304287</td>\n",
       "      <td>Izakaya Kikufuji</td>\n",
       "      <td>162</td>\n",
       "      <td>Makati City</td>\n",
       "      <td>Little Tokyo, 2277 Chino Roces Avenue, Legaspi...</td>\n",
       "      <td>Little Tokyo, Legaspi Village, Makati City</td>\n",
       "      <td>Little Tokyo, Legaspi Village, Makati City, Ma...</td>\n",
       "      <td>121.014101</td>\n",
       "      <td>14.553708</td>\n",
       "      <td>Japanese</td>\n",
       "      <td>...</td>\n",
       "      <td>Botswana Pula(P)</td>\n",
       "      <td>Yes</td>\n",
       "      <td>No</td>\n",
       "      <td>No</td>\n",
       "      <td>No</td>\n",
       "      <td>3</td>\n",
       "      <td>4.5</td>\n",
       "      <td>Dark Green</td>\n",
       "      <td>Excellent</td>\n",
       "      <td>591</td>\n",
       "    </tr>\n",
       "    <tr>\n",
       "      <th>2</th>\n",
       "      <td>6300002</td>\n",
       "      <td>Heat - Edsa Shangri-La</td>\n",
       "      <td>162</td>\n",
       "      <td>Mandaluyong City</td>\n",
       "      <td>Edsa Shangri-La, 1 Garden Way, Ortigas, Mandal...</td>\n",
       "      <td>Edsa Shangri-La, Ortigas, Mandaluyong City</td>\n",
       "      <td>Edsa Shangri-La, Ortigas, Mandaluyong City, Ma...</td>\n",
       "      <td>121.056831</td>\n",
       "      <td>14.581404</td>\n",
       "      <td>Seafood, Asian, Filipino, Indian</td>\n",
       "      <td>...</td>\n",
       "      <td>Botswana Pula(P)</td>\n",
       "      <td>Yes</td>\n",
       "      <td>No</td>\n",
       "      <td>No</td>\n",
       "      <td>No</td>\n",
       "      <td>4</td>\n",
       "      <td>4.4</td>\n",
       "      <td>Green</td>\n",
       "      <td>Very Good</td>\n",
       "      <td>270</td>\n",
       "    </tr>\n",
       "    <tr>\n",
       "      <th>3</th>\n",
       "      <td>6318506</td>\n",
       "      <td>Ooma</td>\n",
       "      <td>162</td>\n",
       "      <td>Mandaluyong City</td>\n",
       "      <td>Third Floor, Mega Fashion Hall, SM Megamall, O...</td>\n",
       "      <td>SM Megamall, Ortigas, Mandaluyong City</td>\n",
       "      <td>SM Megamall, Ortigas, Mandaluyong City, Mandal...</td>\n",
       "      <td>121.056475</td>\n",
       "      <td>14.585318</td>\n",
       "      <td>Japanese, Sushi</td>\n",
       "      <td>...</td>\n",
       "      <td>Botswana Pula(P)</td>\n",
       "      <td>No</td>\n",
       "      <td>No</td>\n",
       "      <td>No</td>\n",
       "      <td>No</td>\n",
       "      <td>4</td>\n",
       "      <td>4.9</td>\n",
       "      <td>Dark Green</td>\n",
       "      <td>Excellent</td>\n",
       "      <td>365</td>\n",
       "    </tr>\n",
       "    <tr>\n",
       "      <th>4</th>\n",
       "      <td>6314302</td>\n",
       "      <td>Sambo Kojin</td>\n",
       "      <td>162</td>\n",
       "      <td>Mandaluyong City</td>\n",
       "      <td>Third Floor, Mega Atrium, SM Megamall, Ortigas...</td>\n",
       "      <td>SM Megamall, Ortigas, Mandaluyong City</td>\n",
       "      <td>SM Megamall, Ortigas, Mandaluyong City, Mandal...</td>\n",
       "      <td>121.057508</td>\n",
       "      <td>14.584450</td>\n",
       "      <td>Japanese, Korean</td>\n",
       "      <td>...</td>\n",
       "      <td>Botswana Pula(P)</td>\n",
       "      <td>Yes</td>\n",
       "      <td>No</td>\n",
       "      <td>No</td>\n",
       "      <td>No</td>\n",
       "      <td>4</td>\n",
       "      <td>4.8</td>\n",
       "      <td>Dark Green</td>\n",
       "      <td>Excellent</td>\n",
       "      <td>229</td>\n",
       "    </tr>\n",
       "  </tbody>\n",
       "</table>\n",
       "<p>5 rows × 21 columns</p>\n",
       "</div>"
      ],
      "text/plain": [
       "   Restaurant ID         Restaurant Name  Country Code              City  \\\n",
       "0        6317637        Le Petit Souffle           162       Makati City   \n",
       "1        6304287        Izakaya Kikufuji           162       Makati City   \n",
       "2        6300002  Heat - Edsa Shangri-La           162  Mandaluyong City   \n",
       "3        6318506                    Ooma           162  Mandaluyong City   \n",
       "4        6314302             Sambo Kojin           162  Mandaluyong City   \n",
       "\n",
       "                                             Address  \\\n",
       "0  Third Floor, Century City Mall, Kalayaan Avenu...   \n",
       "1  Little Tokyo, 2277 Chino Roces Avenue, Legaspi...   \n",
       "2  Edsa Shangri-La, 1 Garden Way, Ortigas, Mandal...   \n",
       "3  Third Floor, Mega Fashion Hall, SM Megamall, O...   \n",
       "4  Third Floor, Mega Atrium, SM Megamall, Ortigas...   \n",
       "\n",
       "                                     Locality  \\\n",
       "0   Century City Mall, Poblacion, Makati City   \n",
       "1  Little Tokyo, Legaspi Village, Makati City   \n",
       "2  Edsa Shangri-La, Ortigas, Mandaluyong City   \n",
       "3      SM Megamall, Ortigas, Mandaluyong City   \n",
       "4      SM Megamall, Ortigas, Mandaluyong City   \n",
       "\n",
       "                                    Locality Verbose   Longitude   Latitude  \\\n",
       "0  Century City Mall, Poblacion, Makati City, Mak...  121.027535  14.565443   \n",
       "1  Little Tokyo, Legaspi Village, Makati City, Ma...  121.014101  14.553708   \n",
       "2  Edsa Shangri-La, Ortigas, Mandaluyong City, Ma...  121.056831  14.581404   \n",
       "3  SM Megamall, Ortigas, Mandaluyong City, Mandal...  121.056475  14.585318   \n",
       "4  SM Megamall, Ortigas, Mandaluyong City, Mandal...  121.057508  14.584450   \n",
       "\n",
       "                           Cuisines  ...          Currency Has Table booking  \\\n",
       "0        French, Japanese, Desserts  ...  Botswana Pula(P)               Yes   \n",
       "1                          Japanese  ...  Botswana Pula(P)               Yes   \n",
       "2  Seafood, Asian, Filipino, Indian  ...  Botswana Pula(P)               Yes   \n",
       "3                   Japanese, Sushi  ...  Botswana Pula(P)                No   \n",
       "4                  Japanese, Korean  ...  Botswana Pula(P)               Yes   \n",
       "\n",
       "  Has Online delivery Is delivering now Switch to order menu Price range  \\\n",
       "0                  No                No                   No           3   \n",
       "1                  No                No                   No           3   \n",
       "2                  No                No                   No           4   \n",
       "3                  No                No                   No           4   \n",
       "4                  No                No                   No           4   \n",
       "\n",
       "   Aggregate rating  Rating color Rating text Votes  \n",
       "0               4.8    Dark Green   Excellent   314  \n",
       "1               4.5    Dark Green   Excellent   591  \n",
       "2               4.4         Green   Very Good   270  \n",
       "3               4.9    Dark Green   Excellent   365  \n",
       "4               4.8    Dark Green   Excellent   229  \n",
       "\n",
       "[5 rows x 21 columns]"
      ]
     },
     "execution_count": 4,
     "metadata": {},
     "output_type": "execute_result"
    }
   ],
   "source": [
    "data.head()"
   ]
  },
  {
   "cell_type": "code",
   "execution_count": 5,
   "id": "09ccd97c-1b0f-4dec-8844-e18894042b41",
   "metadata": {},
   "outputs": [
    {
     "name": "stdout",
     "output_type": "stream",
     "text": [
      "     Keyword  Count\n",
      "0    Average   3737\n",
      "1  Not rated   2148\n",
      "2       Good   2100\n",
      "3  Very Good   1079\n",
      "4  Excellent    301\n",
      "5       Poor    186\n"
     ]
    }
   ],
   "source": [
    "# Analyze the text reviews to identify the most common positive and negative keywords\n",
    "\n",
    "# Get the counts of each unique value in the 'rating text' column\n",
    "\n",
    "keyword_counts = data['Rating text'].value_counts()\n",
    "\n",
    "# Convert to DataFrame for easier visualization\n",
    "\n",
    "keyword_counts_df = keyword_counts.reset_index()\n",
    "keyword_counts_df.columns = ['Keyword', 'Count']\n",
    "\n",
    "# Display the result\n",
    "\n",
    "print(keyword_counts_df)\n",
    "\n"
   ]
  },
  {
   "cell_type": "code",
   "execution_count": 6,
   "id": "40054e9a-2607-4765-b27c-3d866cf2b8e6",
   "metadata": {},
   "outputs": [
    {
     "name": "stdout",
     "output_type": "stream",
     "text": [
      "Overall Average Review Length: 7.02 characters\n",
      "  Rating text  Average Review Length\n",
      "0     Average                    7.0\n",
      "1   Excellent                    9.0\n",
      "2        Good                    4.0\n",
      "3   Not rated                    9.0\n",
      "4        Poor                    4.0\n",
      "5   Very Good                    9.0\n"
     ]
    },
    {
     "data": {
      "image/png": "[encoded data removed]",
      "text/plain": [
       "<Figure size 500x300 with 1 Axes>"
      ]
     },
     "metadata": {},
     "output_type": "display_data"
    }
   ],
   "source": [
    "#Calculate the average length of reviews and explore if there is a relationship between review length and rating\n",
    "\n",
    "\n",
    "# Step 1: Create a new column for review length\n",
    "\n",
    "data['review_length'] = data['Rating text'].str.len()\n",
    "\n",
    "# Step 2: Calculate the overall average review length\n",
    "\n",
    "average_review_length = data['review_length'].mean()\n",
    "print(f\"Overall Average Review Length: {average_review_length:.2f} characters\")\n",
    "\n",
    "# Step 3: Calculate the average review length by rating category\n",
    "\n",
    "average_length_by_rating = data.groupby('Rating text')['review_length'].mean().reset_index()\n",
    "average_length_by_rating.columns = ['Rating text', 'Average Review Length']\n",
    "\n",
    "# Display the result\n",
    "\n",
    "print(average_length_by_rating)\n",
    "\n",
    "# Optional: Visualize the relationship\n",
    "\n",
    "import matplotlib.pyplot as plt\n",
    "plt.figure(figsize=(5, 3))\n",
    "plt.bar(average_length_by_rating['Rating text'], average_length_by_rating['Average Review Length'], color='skyblue')\n",
    "plt.xlabel('Rating text')\n",
    "plt.ylabel('Average Review Length (characters)')\n",
    "plt.title('Average Review Length by Rating text')\n",
    "plt.xticks(rotation=45)\n",
    "plt.show()\n",
    "\n",
    "\n",
    "\n",
    "\n",
    "\n"
   ]
  },
  {
   "cell_type": "code",
   "execution_count": 7,
   "id": "96774b14-ed43-41a3-88e5-c658f9065534",
   "metadata": {},
   "outputs": [
    {
     "name": "stdout",
     "output_type": "stream",
     "text": [
      "Restaurant with the highest number of votes:\n",
      "Restaurant Name     Toit\n",
      "Votes              10934\n",
      "Name: 728, dtype: object\n",
      "\n",
      "Restaurant with the lowest number of votes:\n",
      "Restaurant Name    Cantinho da Gula\n",
      "Votes                             0\n",
      "Name: 69, dtype: object\n"
     ]
    }
   ],
   "source": [
    "#Identify the restaurants with the highest and lowest number of votes\n",
    "\n",
    "# Restaurant with the highest number of votes\n",
    "\n",
    "highest_votes = data.loc[data['Votes'].idxmax(), ['Restaurant Name', 'Votes']]\n",
    "print(\"Restaurant with the highest number of votes:\")\n",
    "print(highest_votes)\n",
    "\n",
    "# Restaurant with the lowest number of votes\n",
    "\n",
    "lowest_votes = data.loc[data['Votes'].idxmin(), ['Restaurant Name', 'Votes']]\n",
    "print(\"\\nRestaurant with the lowest number of votes:\")\n",
    "print(lowest_votes)\n"
   ]
  },
  {
   "cell_type": "code",
   "execution_count": 8,
   "id": "87c26e4b-dd32-4402-bcad-19e10dd6bb30",
   "metadata": {},
   "outputs": [
    {
     "name": "stdout",
     "output_type": "stream",
     "text": [
      "Correlation between Votes and Aggregate rating: 0.31\n"
     ]
    }
   ],
   "source": [
    "# Analyze if there is a correlation between the number of votes and the rating of a restaurant\n",
    "\n",
    "\n",
    "# Calculate the correlation between Votes and Aggregate rating\n",
    "\n",
    "correlation = data['Votes'].corr(data['Aggregate rating'])\n",
    "print(f\"Correlation between Votes and Aggregate rating: {correlation:.2f}\")\n"
   ]
  },
  {
   "cell_type": "code",
   "execution_count": 9,
   "id": "a3b13c24-0ea3-4682-bef4-d1f7f9d8c50b",
   "metadata": {},
   "outputs": [
    {
     "name": "stdout",
     "output_type": "stream",
     "text": [
      "Has Online delivery\n",
      "No     7100\n",
      "Yes    2451\n",
      "Name: count, dtype: int64\n",
      "Has Table booking\n",
      "No     8393\n",
      "Yes    1158\n",
      "Name: count, dtype: int64\n"
     ]
    }
   ],
   "source": [
    "# Analyze if there is a relationship between the price range and the availability of online delivery and table booking.\n",
    "\n",
    "\n",
    "print(data['Has Online delivery'].value_counts())\n",
    "print(data['Has Table booking'].value_counts())\n"
   ]
  },
  {
   "cell_type": "code",
   "execution_count": 10,
   "id": "d0701de6-7517-4c11-b599-1776b573bdaf",
   "metadata": {},
   "outputs": [
    {
     "name": "stdout",
     "output_type": "stream",
     "text": [
      "Has Online delivery  Has Table booking\n",
      "No                   No                   1.604673\n",
      "                     Yes                  3.163209\n",
      "Yes                  No                   1.735119\n",
      "                     Yes                  2.804598\n",
      "Name: Price range, dtype: float64\n"
     ]
    }
   ],
   "source": [
    "# Group by both columns and calculate the mean price range for each combination\n",
    "\n",
    "grouped_data = data.groupby(['Has Online delivery', 'Has Table booking'])['Price range'].mean()\n",
    "\n",
    "# Display the result\n",
    "\n",
    "print(grouped_data)\n"
   ]
  },
  {
   "cell_type": "code",
   "execution_count": 16,
   "id": "c2f196ee-58b4-48f2-92fa-77e1ad66db61",
   "metadata": {},
   "outputs": [
    {
     "data": {
      "image/png": "[encoded data removed]",
      "text/plain": [
       "<Figure size 800x300 with 1 Axes>"
      ]
     },
     "metadata": {},
     "output_type": "display_data"
    }
   ],
   "source": [
    "import seaborn as sns\n",
    "import matplotlib.pyplot as plt\n",
    "\n",
    "# Boxplot for Price range by Has Online delivery and Has Table booking\n",
    "\n",
    "plt.figure(figsize=(8, 3))\n",
    "sns.boxplot(data=data, x='Has Online delivery', y='Price range', hue='Has Table booking')\n",
    "plt.title('Price Range vs. Online Delivery and Table Booking')\n",
    "plt.show()\n",
    "\n"
   ]
  },
  {
   "cell_type": "code",
   "execution_count": 14,
   "id": "859a5677-a976-4b6f-86c5-2d0d8fa13b5b",
   "metadata": {},
   "outputs": [
    {
     "name": "stdout",
     "output_type": "stream",
     "text": [
      "             Has Online delivery  Has Table booking\n",
      "Price range                                        \n",
      "1                       0.157741           0.000225\n",
      "2                       0.413106           0.076775\n",
      "3                       0.291903           0.457386\n",
      "4                       0.090444           0.467577\n"
     ]
    },
    {
     "name": "stderr",
     "output_type": "stream",
     "text": [
      "C:\\Users\\alekh\\AppData\\Local\\Temp\\ipykernel_5488\\881038148.py:5: FutureWarning: Downcasting behavior in `replace` is deprecated and will be removed in a future version. To retain the old behavior, explicitly call `result.infer_objects(copy=False)`. To opt-in to the future behavior, set `pd.set_option('future.no_silent_downcasting', True)`\n",
      "  data[['Has Online delivery', 'Has Table booking']] = data[['Has Online delivery', 'Has Table booking']].replace({'Yes': 1, 'No': 0}).astype(int)\n"
     ]
    }
   ],
   "source": [
    "# Determine if higher-priced restaurants are more likely to offer these services\n",
    "\n",
    "\n",
    "# Replace 'Yes' with 1 and 'No' with 0\n",
    "data[['Has Online delivery', 'Has Table booking']] = data[['Has Online delivery', 'Has Table booking']].replace({'Yes': 1, 'No': 0}).astype(int)\n",
    "\n",
    "# Group by 'price range' and calculate the mean (proportion) of 'Has Online delivery' and 'Has Table booking'\n",
    "service_proportion = data.groupby('Price range')[['Has Online delivery', 'Has Table booking']].mean()\n",
    "\n",
    "\n",
    "# Display the result\n",
    "print(service_proportion)\n"
   ]
  },
  {
   "cell_type": "code",
   "execution_count": null,
   "id": "62e00062-fe3b-4dd9-95d8-86664c8901aa",
   "metadata": {},
   "outputs": [],
   "source": []
  },
  {
   "cell_type": "code",
   "execution_count": null,
   "id": "1069128b-9d49-4f61-9f3e-4db66a0a1874",
   "metadata": {},
   "outputs": [],
   "source": []
  },
  {
   "cell_type": "code",
   "execution_count": null,
   "id": "3e96b09f-da58-4f59-9314-191ebf0f029d",
   "metadata": {},
   "outputs": [],
   "source": []
  },
  {
   "cell_type": "code",
   "execution_count": null,
   "id": "5e5b7751-3132-451a-a7f0-d564c1a7e3db",
   "metadata": {},
   "outputs": [],
   "source": []
  },
  {
   "cell_type": "code",
   "execution_count": null,
   "id": "d0bc30ce-8309-48ae-9290-435ef0d1e303",
   "metadata": {},
   "outputs": [],
   "source": []
  },
  {
   "cell_type": "code",
   "execution_count": null,
   "id": "325b03c9-0198-48a1-9666-01d5566e5856",
   "metadata": {},
   "outputs": [],
   "source": []
  },
  {
   "cell_type": "code",
   "execution_count": null,
   "id": "098d64ed-d257-4800-8130-08de9a0ccbc6",
   "metadata": {},
   "outputs": [],
   "source": []
  },
  {
   "cell_type": "code",
   "execution_count": null,
   "id": "31794b7a-7cd0-4844-a8c2-f9fed7cd5f4a",
   "metadata": {},
   "outputs": [],
   "source": []
  },
  {
   "cell_type": "code",
   "execution_count": null,
   "id": "eadda655-20f9-4514-af68-a9a4dee2563e",
   "metadata": {},
   "outputs": [],
   "source": []
  },
  {
   "cell_type": "code",
   "execution_count": null,
   "id": "60414fac-4a9d-4908-8a58-40475f9ef33c",
   "metadata": {},
   "outputs": [],
   "source": []
  }
 ],
 "metadata": {
  "kernelspec": {
   "display_name": "Python 3 (ipykernel)",
   "language": "python",
   "name": "python3"
  },
  "language_info": {
   "codemirror_mode": {
    "name": "ipython",
    "version": 3
   },
   "file_extension": ".py",
   "mimetype": "text/x-python",
   "name": "python",
   "nbconvert_exporter": "python",
   "pygments_lexer": "ipython3",
   "version": "3.12.6"
  }
 },
 "nbformat": 4,
 "nbformat_minor": 5
}
